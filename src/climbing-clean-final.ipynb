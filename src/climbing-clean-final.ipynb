{
 "cells": [
  {
   "cell_type": "markdown",
   "metadata": {
    "Collapsed": "false"
   },
   "source": [
    "# Import Libraries"
   ]
  },
  {
   "cell_type": "code",
   "execution_count": 1,
   "metadata": {
    "Collapsed": "false"
   },
   "outputs": [],
   "source": [
    "import pandas as pd\n",
    "import numpy as np\n",
    "from pandas.api.types import CategoricalDtype\n",
    "\n",
    "from datetime import datetime\n",
    "\n",
    "import matplotlib.pyplot as plt\n",
    "import seaborn as sns\n",
    "\n",
    "\n",
    "sns.set()\n",
    "\n",
    "%matplotlib inline\n",
    "pd.set_option('display.max_columns', 100)\n",
    "pd.set_option('display.max_rows', 500)"
   ]
  },
  {
   "cell_type": "markdown",
   "metadata": {
    "Collapsed": "false"
   },
   "source": [
    "# Read the Data\n",
    "\n",
    "## About the Data\n",
    "\n",
    "The dataset I'm using is from [Kaggle](https://www.kaggle.com/dcohen21/8anu-climbing-logbook). It was collected from the website [8a.nu](https://www.8a.nu/) by David Cohen. This dataset was collected on 9/13/2017.\n",
    "\n",
    "The idea behind [8a.nu](https://www.8a.nu/) is to provide a logbook for climbers to keep track of their climbs digitally. Many climbers have a manual logbook that they use to keep track of this information, and [8a.nu](https://www.8a.nu/) provides a digital alternative to this. Fortunately for us this means we have a wealth of information available.\n",
    "\n",
    "## Import the Data\n",
    "\n",
    "The download from [Kaggle](https://www.kaggle.com/dcohen21/8anu-climbing-logbook) is in sqlite format, which is nice, but pandas seemed to read this information quite slowly so I converted each of the tables within the database into csv's from the sqlite3 interface. Pandas reads the csv files much faster.\n"
   ]
  },
  {
   "cell_type": "code",
   "execution_count": 2,
   "metadata": {
    "Collapsed": "false"
   },
   "outputs": [],
   "source": [
    "input_path = '../data/input/'\n",
    "ascents = pd.read_csv(input_path + 'ascent.csv', low_memory=False)\n",
    "grades = pd.read_csv(input_path + 'grade.csv', low_memory=False)\n",
    "method = pd.read_csv(input_path + 'method.csv', low_memory=False)\n",
    "user = pd.read_csv(input_path + 'user.csv', low_memory=False)"
   ]
  },
  {
   "cell_type": "code",
   "execution_count": 3,
   "metadata": {
    "Collapsed": "false"
   },
   "outputs": [
    {
     "name": "stdout",
     "output_type": "stream",
     "text": [
      "<class 'pandas.core.frame.DataFrame'>\n",
      "RangeIndex: 4111877 entries, 0 to 4111876\n",
      "Data columns (total 28 columns):\n",
      " #   Column                Dtype \n",
      "---  ------                ----- \n",
      " 0   id                    int64 \n",
      " 1   user_id               int64 \n",
      " 2   grade_id              int64 \n",
      " 3   notes                 object\n",
      " 4   raw_notes             int64 \n",
      " 5   method_id             int64 \n",
      " 6   climb_type            int64 \n",
      " 7   total_score           int64 \n",
      " 8   date                  int64 \n",
      " 9   year                  int64 \n",
      " 10  last_year             int64 \n",
      " 11  rec_date              int64 \n",
      " 12  project_ascent_date   int64 \n",
      " 13  name                  object\n",
      " 14  crag_id               int64 \n",
      " 15  crag                  object\n",
      " 16  sector_id             int64 \n",
      " 17  sector                object\n",
      " 18  country               object\n",
      " 19  comment               object\n",
      " 20  rating                int64 \n",
      " 21  description           object\n",
      " 22  yellow_id             int64 \n",
      " 23  climb_try             int64 \n",
      " 24  repeat                int64 \n",
      " 25  exclude_from_ranking  int64 \n",
      " 26  user_recommended      int64 \n",
      " 27  chipped               int64 \n",
      "dtypes: int64(21), object(7)\n",
      "memory usage: 878.4+ MB\n",
      "None\n"
     ]
    }
   ],
   "source": [
    "print(ascents.info(verbose = True))"
   ]
  },
  {
   "cell_type": "code",
   "execution_count": 4,
   "metadata": {},
   "outputs": [
    {
     "name": "stdout",
     "output_type": "stream",
     "text": [
      "<class 'pandas.core.frame.DataFrame'>\n",
      "RangeIndex: 83 entries, 0 to 82\n",
      "Data columns (total 14 columns):\n",
      " #   Column                 Non-Null Count  Dtype \n",
      "---  ------                 --------------  ----- \n",
      " 0   id                     83 non-null     int64 \n",
      " 1   score                  83 non-null     int64 \n",
      " 2   fra_routes             83 non-null     object\n",
      " 3   fra_routes_input       83 non-null     int64 \n",
      " 4   fra_routes_selector    83 non-null     int64 \n",
      " 5   fra_boulders           83 non-null     object\n",
      " 6   fra_boulders_input     83 non-null     int64 \n",
      " 7   fra_boulders_selector  83 non-null     int64 \n",
      " 8   usa_routes             47 non-null     object\n",
      " 9   usa_routes_input       83 non-null     int64 \n",
      " 10  usa_routes_selector    83 non-null     int64 \n",
      " 11  usa_boulders           45 non-null     object\n",
      " 12  usa_boulders_input     83 non-null     int64 \n",
      " 13  usa_boulders_selector  83 non-null     int64 \n",
      "dtypes: int64(10), object(4)\n",
      "memory usage: 9.2+ KB\n",
      "None\n"
     ]
    }
   ],
   "source": [
    "print(grades.info(verbose = True))"
   ]
  },
  {
   "cell_type": "code",
   "execution_count": 5,
   "metadata": {},
   "outputs": [
    {
     "name": "stdout",
     "output_type": "stream",
     "text": [
      "<class 'pandas.core.frame.DataFrame'>\n",
      "RangeIndex: 5 entries, 0 to 4\n",
      "Data columns (total 4 columns):\n",
      " #   Column     Non-Null Count  Dtype \n",
      "---  ------     --------------  ----- \n",
      " 0   id         5 non-null      int64 \n",
      " 1   score      5 non-null      int64 \n",
      " 2   shorthand  5 non-null      object\n",
      " 3   name       5 non-null      object\n",
      "dtypes: int64(2), object(2)\n",
      "memory usage: 288.0+ bytes\n",
      "None\n"
     ]
    }
   ],
   "source": [
    "print(method.info(verbose = True))"
   ]
  },
  {
   "cell_type": "code",
   "execution_count": 6,
   "metadata": {},
   "outputs": [
    {
     "name": "stdout",
     "output_type": "stream",
     "text": [
      "<class 'pandas.core.frame.DataFrame'>\n",
      "RangeIndex: 62593 entries, 0 to 62592\n",
      "Data columns (total 22 columns):\n",
      " #   Column        Non-Null Count  Dtype \n",
      "---  ------        --------------  ----- \n",
      " 0   id            62593 non-null  int64 \n",
      " 1   first_name    62593 non-null  object\n",
      " 2   last_name     62593 non-null  object\n",
      " 3   city          61163 non-null  object\n",
      " 4   country       62495 non-null  object\n",
      " 5   sex           62593 non-null  int64 \n",
      " 6   height        62593 non-null  int64 \n",
      " 7   weight        62593 non-null  int64 \n",
      " 8   started       62593 non-null  int64 \n",
      " 9   competitions  4888 non-null   object\n",
      " 10  occupation    11778 non-null  object\n",
      " 11  sponsor1      5355 non-null   object\n",
      " 12  sponsor2      2656 non-null   object\n",
      " 13  sponsor3      1497 non-null   object\n",
      " 14  best_area     15413 non-null  object\n",
      " 15  worst_area    220 non-null    object\n",
      " 16  guide_area    7755 non-null   object\n",
      " 17  interests     8577 non-null   object\n",
      " 18  birth         27856 non-null  object\n",
      " 19  presentation  6113 non-null   object\n",
      " 20  deactivated   62593 non-null  int64 \n",
      " 21  anonymous     62593 non-null  int64 \n",
      "dtypes: int64(7), object(15)\n",
      "memory usage: 10.5+ MB\n",
      "None\n"
     ]
    }
   ],
   "source": [
    "print(user.info(verbose = True))"
   ]
  },
  {
   "cell_type": "markdown",
   "metadata": {},
   "source": [
    "We can look at the climb type to see the split between climbs and boulders within the database:<br>\n",
    "0 = climb<br>\n",
    "1 = boulder<br>"
   ]
  },
  {
   "cell_type": "code",
   "execution_count": 7,
   "metadata": {
    "Collapsed": "false"
   },
   "outputs": [
    {
     "data": {
      "text/plain": [
       "0    2875675\n",
       "1    1236202\n",
       "Name: climb_type, dtype: int64"
      ]
     },
     "execution_count": 7,
     "metadata": {},
     "output_type": "execute_result"
    }
   ],
   "source": [
    "ascents.climb_type.value_counts()"
   ]
  },
  {
   "cell_type": "markdown",
   "metadata": {},
   "source": [
    "It's interesting to note the number of registered users versus the number of user that have logged at least one climb."
   ]
  },
  {
   "cell_type": "code",
   "execution_count": 8,
   "metadata": {
    "Collapsed": "false"
   },
   "outputs": [
    {
     "name": "stdout",
     "output_type": "stream",
     "text": [
      "climbers registered = 62593\n",
      "climbers logged = 36034\n"
     ]
    }
   ],
   "source": [
    "unique_climbers = (pd.merge(left = ascents, left_on = 'user_id',\n",
    "                            right = user, right_on = 'id',\n",
    "                            how = 'left'\n",
    "                           ))\n",
    "print('climbers registered = {}\\nclimbers logged = {}'\n",
    "      .format(user.id.nunique(), unique_climbers.user_id.nunique()))"
   ]
  },
  {
   "cell_type": "markdown",
   "metadata": {
    "Collapsed": "false"
   },
   "source": [
    "### User Table"
   ]
  },
  {
   "cell_type": "code",
   "execution_count": 9,
   "metadata": {
    "Collapsed": "false"
   },
   "outputs": [
    {
     "data": {
      "text/html": [
       "<div>\n",
       "<style scoped>\n",
       "    .dataframe tbody tr th:only-of-type {\n",
       "        vertical-align: middle;\n",
       "    }\n",
       "\n",
       "    .dataframe tbody tr th {\n",
       "        vertical-align: top;\n",
       "    }\n",
       "\n",
       "    .dataframe thead th {\n",
       "        text-align: right;\n",
       "    }\n",
       "</style>\n",
       "<table border=\"1\" class=\"dataframe\">\n",
       "  <thead>\n",
       "    <tr style=\"text-align: right;\">\n",
       "      <th></th>\n",
       "      <th>id</th>\n",
       "      <th>first_name</th>\n",
       "      <th>last_name</th>\n",
       "      <th>city</th>\n",
       "      <th>country</th>\n",
       "      <th>sex</th>\n",
       "      <th>height</th>\n",
       "      <th>weight</th>\n",
       "      <th>started</th>\n",
       "      <th>competitions</th>\n",
       "      <th>occupation</th>\n",
       "      <th>sponsor1</th>\n",
       "      <th>sponsor2</th>\n",
       "      <th>sponsor3</th>\n",
       "      <th>best_area</th>\n",
       "      <th>worst_area</th>\n",
       "      <th>guide_area</th>\n",
       "      <th>interests</th>\n",
       "      <th>birth</th>\n",
       "      <th>presentation</th>\n",
       "      <th>deactivated</th>\n",
       "      <th>anonymous</th>\n",
       "    </tr>\n",
       "  </thead>\n",
       "  <tbody>\n",
       "    <tr>\n",
       "      <th>0</th>\n",
       "      <td>1</td>\n",
       "      <td>first</td>\n",
       "      <td>last</td>\n",
       "      <td>Göteborg</td>\n",
       "      <td>SWE</td>\n",
       "      <td>0</td>\n",
       "      <td>177</td>\n",
       "      <td>73</td>\n",
       "      <td>1996</td>\n",
       "      <td>NaN</td>\n",
       "      <td>NaN</td>\n",
       "      <td>NaN</td>\n",
       "      <td>NaN</td>\n",
       "      <td>NaN</td>\n",
       "      <td>Railay beach, Krabi, Thailand</td>\n",
       "      <td>NaN</td>\n",
       "      <td>NaN</td>\n",
       "      <td>NaN</td>\n",
       "      <td>1976-03-10</td>\n",
       "      <td>NaN</td>\n",
       "      <td>0</td>\n",
       "      <td>0</td>\n",
       "    </tr>\n",
       "    <tr>\n",
       "      <th>1</th>\n",
       "      <td>2</td>\n",
       "      <td>first</td>\n",
       "      <td>last</td>\n",
       "      <td>stockholm</td>\n",
       "      <td>SWE</td>\n",
       "      <td>0</td>\n",
       "      <td>0</td>\n",
       "      <td>0</td>\n",
       "      <td>2000</td>\n",
       "      <td>NaN</td>\n",
       "      <td>NaN</td>\n",
       "      <td>NaN</td>\n",
       "      <td>NaN</td>\n",
       "      <td>NaN</td>\n",
       "      <td>NaN</td>\n",
       "      <td>NaN</td>\n",
       "      <td>NaN</td>\n",
       "      <td>NaN</td>\n",
       "      <td>NaN</td>\n",
       "      <td>NaN</td>\n",
       "      <td>0</td>\n",
       "      <td>0</td>\n",
       "    </tr>\n",
       "  </tbody>\n",
       "</table>\n",
       "</div>"
      ],
      "text/plain": [
       "   id first_name last_name       city country  sex  height  weight  started  \\\n",
       "0   1      first      last   Göteborg     SWE    0     177      73     1996   \n",
       "1   2      first      last  stockholm     SWE    0       0       0     2000   \n",
       "\n",
       "  competitions occupation sponsor1 sponsor2 sponsor3  \\\n",
       "0          NaN        NaN      NaN      NaN      NaN   \n",
       "1          NaN        NaN      NaN      NaN      NaN   \n",
       "\n",
       "                       best_area worst_area guide_area interests       birth  \\\n",
       "0  Railay beach, Krabi, Thailand        NaN        NaN       NaN  1976-03-10   \n",
       "1                            NaN        NaN        NaN       NaN         NaN   \n",
       "\n",
       "  presentation  deactivated  anonymous  \n",
       "0          NaN            0          0  \n",
       "1          NaN            0          0  "
      ]
     },
     "execution_count": 9,
     "metadata": {},
     "output_type": "execute_result"
    }
   ],
   "source": [
    "user.head(2)"
   ]
  },
  {
   "cell_type": "markdown",
   "metadata": {
    "Collapsed": "false"
   },
   "source": [
    "What units are `sex`, `height`, and `weight`?\n",
    "\n",
    "Previously, I determined that Adam Ondra had a `user_id` = 1476, so I can use this to reverse engineer the units."
   ]
  },
  {
   "cell_type": "code",
   "execution_count": 10,
   "metadata": {
    "Collapsed": "false"
   },
   "outputs": [
    {
     "data": {
      "text/html": [
       "<div>\n",
       "<style scoped>\n",
       "    .dataframe tbody tr th:only-of-type {\n",
       "        vertical-align: middle;\n",
       "    }\n",
       "\n",
       "    .dataframe tbody tr th {\n",
       "        vertical-align: top;\n",
       "    }\n",
       "\n",
       "    .dataframe thead th {\n",
       "        text-align: right;\n",
       "    }\n",
       "</style>\n",
       "<table border=\"1\" class=\"dataframe\">\n",
       "  <thead>\n",
       "    <tr style=\"text-align: right;\">\n",
       "      <th></th>\n",
       "      <th>id</th>\n",
       "      <th>first_name</th>\n",
       "      <th>last_name</th>\n",
       "      <th>city</th>\n",
       "      <th>country</th>\n",
       "      <th>sex</th>\n",
       "      <th>height</th>\n",
       "      <th>weight</th>\n",
       "      <th>started</th>\n",
       "      <th>competitions</th>\n",
       "      <th>occupation</th>\n",
       "      <th>sponsor1</th>\n",
       "      <th>sponsor2</th>\n",
       "      <th>sponsor3</th>\n",
       "      <th>best_area</th>\n",
       "      <th>worst_area</th>\n",
       "      <th>guide_area</th>\n",
       "      <th>interests</th>\n",
       "      <th>birth</th>\n",
       "      <th>presentation</th>\n",
       "      <th>deactivated</th>\n",
       "      <th>anonymous</th>\n",
       "    </tr>\n",
       "  </thead>\n",
       "  <tbody>\n",
       "    <tr>\n",
       "      <th>1422</th>\n",
       "      <td>1476</td>\n",
       "      <td>first</td>\n",
       "      <td>last</td>\n",
       "      <td>Brno</td>\n",
       "      <td>CZE</td>\n",
       "      <td>0</td>\n",
       "      <td>185</td>\n",
       "      <td>68</td>\n",
       "      <td>1999</td>\n",
       "      <td>World cup lead and bouldering winner</td>\n",
       "      <td>student of Economics</td>\n",
       "      <td>Montura</td>\n",
       "      <td>Black Diamond</td>\n",
       "      <td>La Sportiva</td>\n",
       "      <td>Flatanger, anywhere in Spain, Gemona</td>\n",
       "      <td>NaN</td>\n",
       "      <td>Moravsky kras</td>\n",
       "      <td>snowboarding</td>\n",
       "      <td>1993-02-05</td>\n",
       "      <td>my other sponsors:\\r\\nTendon www.mytendon.cz\\r...</td>\n",
       "      <td>0</td>\n",
       "      <td>0</td>\n",
       "    </tr>\n",
       "  </tbody>\n",
       "</table>\n",
       "</div>"
      ],
      "text/plain": [
       "        id first_name last_name  city country  sex  height  weight  started  \\\n",
       "1422  1476      first      last  Brno     CZE    0     185      68     1999   \n",
       "\n",
       "                              competitions            occupation sponsor1  \\\n",
       "1422  World cup lead and bouldering winner  student of Economics  Montura   \n",
       "\n",
       "           sponsor2     sponsor3                             best_area  \\\n",
       "1422  Black Diamond  La Sportiva  Flatanger, anywhere in Spain, Gemona   \n",
       "\n",
       "     worst_area     guide_area     interests       birth  \\\n",
       "1422        NaN  Moravsky kras  snowboarding  1993-02-05   \n",
       "\n",
       "                                           presentation  deactivated  \\\n",
       "1422  my other sponsors:\\r\\nTendon www.mytendon.cz\\r...            0   \n",
       "\n",
       "      anonymous  \n",
       "1422          0  "
      ]
     },
     "execution_count": 10,
     "metadata": {},
     "output_type": "execute_result"
    }
   ],
   "source": [
    "user[user.id == 1476]"
   ]
  },
  {
   "cell_type": "markdown",
   "metadata": {
    "Collapsed": "false"
   },
   "source": [
    "From this, I can see the following:<br>\n",
    "- `sex`: 0 = Male\n",
    "- `height`: cm\n",
    "- `weight`: kg\n",
    "\n",
    "Also, looking at this list of fields, I think it's pretty clear that I don't want very many of them. For now I will do a fairly large filter, and I guess I can always change this later."
   ]
  },
  {
   "cell_type": "code",
   "execution_count": 11,
   "metadata": {
    "Collapsed": "false"
   },
   "outputs": [
    {
     "data": {
      "text/html": [
       "<div>\n",
       "<style scoped>\n",
       "    .dataframe tbody tr th:only-of-type {\n",
       "        vertical-align: middle;\n",
       "    }\n",
       "\n",
       "    .dataframe tbody tr th {\n",
       "        vertical-align: top;\n",
       "    }\n",
       "\n",
       "    .dataframe thead th {\n",
       "        text-align: right;\n",
       "    }\n",
       "</style>\n",
       "<table border=\"1\" class=\"dataframe\">\n",
       "  <thead>\n",
       "    <tr style=\"text-align: right;\">\n",
       "      <th></th>\n",
       "      <th>id</th>\n",
       "      <th>city</th>\n",
       "      <th>country</th>\n",
       "      <th>sex</th>\n",
       "      <th>height</th>\n",
       "      <th>weight</th>\n",
       "      <th>started</th>\n",
       "      <th>birth</th>\n",
       "      <th>occupation</th>\n",
       "      <th>sponsor1</th>\n",
       "    </tr>\n",
       "  </thead>\n",
       "  <tbody>\n",
       "    <tr>\n",
       "      <th>0</th>\n",
       "      <td>1</td>\n",
       "      <td>Göteborg</td>\n",
       "      <td>SWE</td>\n",
       "      <td>Male</td>\n",
       "      <td>177</td>\n",
       "      <td>73</td>\n",
       "      <td>1996</td>\n",
       "      <td>1976-03-10</td>\n",
       "      <td>NaN</td>\n",
       "      <td>NaN</td>\n",
       "    </tr>\n",
       "    <tr>\n",
       "      <th>2</th>\n",
       "      <td>3</td>\n",
       "      <td>Umeå</td>\n",
       "      <td>SWE</td>\n",
       "      <td>Male</td>\n",
       "      <td>180</td>\n",
       "      <td>78</td>\n",
       "      <td>1995</td>\n",
       "      <td>1973-09-09</td>\n",
       "      <td>NaN</td>\n",
       "      <td>NaN</td>\n",
       "    </tr>\n",
       "    <tr>\n",
       "      <th>3</th>\n",
       "      <td>4</td>\n",
       "      <td>Goteborg</td>\n",
       "      <td>SWE</td>\n",
       "      <td>Female</td>\n",
       "      <td>165</td>\n",
       "      <td>58</td>\n",
       "      <td>2001</td>\n",
       "      <td>1984-07-26</td>\n",
       "      <td>NaN</td>\n",
       "      <td>NaN</td>\n",
       "    </tr>\n",
       "    <tr>\n",
       "      <th>4</th>\n",
       "      <td>5</td>\n",
       "      <td>North Attleboro</td>\n",
       "      <td>USA</td>\n",
       "      <td>Male</td>\n",
       "      <td>0</td>\n",
       "      <td>0</td>\n",
       "      <td>1991</td>\n",
       "      <td>1969-05-07</td>\n",
       "      <td>NaN</td>\n",
       "      <td>NaN</td>\n",
       "    </tr>\n",
       "    <tr>\n",
       "      <th>5</th>\n",
       "      <td>6</td>\n",
       "      <td>Sydney</td>\n",
       "      <td>AUS</td>\n",
       "      <td>Male</td>\n",
       "      <td>185</td>\n",
       "      <td>73</td>\n",
       "      <td>1992</td>\n",
       "      <td>1970-12-02</td>\n",
       "      <td>NaN</td>\n",
       "      <td>NaN</td>\n",
       "    </tr>\n",
       "  </tbody>\n",
       "</table>\n",
       "</div>"
      ],
      "text/plain": [
       "   id             city country     sex  height  weight  started      birth  \\\n",
       "0   1         Göteborg     SWE    Male     177      73     1996 1976-03-10   \n",
       "2   3             Umeå     SWE    Male     180      78     1995 1973-09-09   \n",
       "3   4         Goteborg     SWE  Female     165      58     2001 1984-07-26   \n",
       "4   5  North Attleboro     USA    Male       0       0     1991 1969-05-07   \n",
       "5   6           Sydney     AUS    Male     185      73     1992 1970-12-02   \n",
       "\n",
       "  occupation sponsor1  \n",
       "0        NaN      NaN  \n",
       "2        NaN      NaN  \n",
       "3        NaN      NaN  \n",
       "4        NaN      NaN  \n",
       "5        NaN      NaN  "
      ]
     },
     "execution_count": 11,
     "metadata": {},
     "output_type": "execute_result"
    }
   ],
   "source": [
    "user.loc[:,'sex'] = user.sex.replace({0:'Male', 1:'Female'}).astype('category')\n",
    "user_cols = ['id', 'city', 'country', 'sex', 'height', 'weight', 'started', 'birth', 'occupation', 'sponsor1', 'deactivated']\n",
    "user_filtered = user[user_cols].copy()\n",
    "f = (user_filtered.birth > '1930-01-01') & (user_filtered.deactivated == 0)\n",
    "user_filtered = user_filtered[f].drop(columns='deactivated').copy()\n",
    "user_filtered.loc[:,'birth'] = pd.to_datetime(user_filtered.birth)\n",
    "user_filtered.head()"
   ]
  },
  {
   "cell_type": "markdown",
   "metadata": {
    "Collapsed": "false"
   },
   "source": [
    "Let's do a little more filtering:\n",
    "* Limit height between 122cm and 207cm (4'0\" to 6'8\")\n",
    "* Weight > 0\n",
    "* Add a BMI calculation\n",
    "* Limit BMI between 12-40\n",
    "* Remove anyone without a sex\n",
    "\n"
   ]
  },
  {
   "cell_type": "code",
   "execution_count": 12,
   "metadata": {
    "Collapsed": "false"
   },
   "outputs": [
    {
     "name": "stdout",
     "output_type": "stream",
     "text": [
      "climbers remaining registered = 20203\n"
     ]
    }
   ],
   "source": [
    "# create the first filter\n",
    "#  might as well filter on heigh and weight before calculating BMI\n",
    "f = (user_filtered.sex.isin(['Male', 'Female']) &\n",
    "     (user_filtered.weight > 0) &\n",
    "     (user_filtered.height > 122) & \n",
    "     (user_filtered.height < 213) &\n",
    "     (~user_filtered.country.isna())\n",
    "    )\n",
    "user_filtered = user_filtered[f].copy()\n",
    "\n",
    "# calculate BMI and then filter on it as well\n",
    "user_filtered['bmi'] = user_filtered.weight / (user_filtered.height/100)**2\n",
    "f = (user_filtered.bmi > 12) & (user_filtered.bmi < 40)\n",
    "user_filtered = user_filtered[f].copy()\n",
    "\n",
    "# calculate age\n",
    "date_collected = datetime.strptime('9/13/2017', '%m/%d/%Y') # date that the data was collected\n",
    "user_filtered['current_age'] = (date_collected - user_filtered.birth).astype('timedelta64[Y]').astype('int64')\n",
    "\n",
    "print('climbers remaining registered = {}'.format(user_filtered.id.nunique()))"
   ]
  },
  {
   "cell_type": "markdown",
   "metadata": {
    "Collapsed": "false"
   },
   "source": [
    "That gives us a decent picture of the users. We can see that through our filtering we have reduced the number of unique users from 62593 to 20203.\n",
    "\n",
    "### Ascent Table\n",
    "\n",
    "Ascent table is the biggest, and will require the most ammount of work. Let's begin."
   ]
  },
  {
   "cell_type": "code",
   "execution_count": 13,
   "metadata": {
    "Collapsed": "false"
   },
   "outputs": [
    {
     "data": {
      "text/html": [
       "<div>\n",
       "<style scoped>\n",
       "    .dataframe tbody tr th:only-of-type {\n",
       "        vertical-align: middle;\n",
       "    }\n",
       "\n",
       "    .dataframe tbody tr th {\n",
       "        vertical-align: top;\n",
       "    }\n",
       "\n",
       "    .dataframe thead th {\n",
       "        text-align: right;\n",
       "    }\n",
       "</style>\n",
       "<table border=\"1\" class=\"dataframe\">\n",
       "  <thead>\n",
       "    <tr style=\"text-align: right;\">\n",
       "      <th></th>\n",
       "      <th>id</th>\n",
       "      <th>user_id</th>\n",
       "      <th>grade_id</th>\n",
       "      <th>notes</th>\n",
       "      <th>raw_notes</th>\n",
       "      <th>method_id</th>\n",
       "      <th>climb_type</th>\n",
       "      <th>total_score</th>\n",
       "      <th>date</th>\n",
       "      <th>year</th>\n",
       "      <th>last_year</th>\n",
       "      <th>rec_date</th>\n",
       "      <th>project_ascent_date</th>\n",
       "      <th>name</th>\n",
       "      <th>crag_id</th>\n",
       "      <th>crag</th>\n",
       "      <th>sector_id</th>\n",
       "      <th>sector</th>\n",
       "      <th>country</th>\n",
       "      <th>comment</th>\n",
       "      <th>rating</th>\n",
       "      <th>description</th>\n",
       "      <th>yellow_id</th>\n",
       "      <th>climb_try</th>\n",
       "      <th>repeat</th>\n",
       "      <th>exclude_from_ranking</th>\n",
       "      <th>user_recommended</th>\n",
       "      <th>chipped</th>\n",
       "    </tr>\n",
       "  </thead>\n",
       "  <tbody>\n",
       "    <tr>\n",
       "      <th>0</th>\n",
       "      <td>2</td>\n",
       "      <td>1</td>\n",
       "      <td>36</td>\n",
       "      <td>NaN</td>\n",
       "      <td>0</td>\n",
       "      <td>3</td>\n",
       "      <td>0</td>\n",
       "      <td>545</td>\n",
       "      <td>918342000</td>\n",
       "      <td>1999</td>\n",
       "      <td>0</td>\n",
       "      <td>1107126000</td>\n",
       "      <td>0</td>\n",
       "      <td>The King And I</td>\n",
       "      <td>16596</td>\n",
       "      <td>Railay</td>\n",
       "      <td>61</td>\n",
       "      <td>Dum's kitchen</td>\n",
       "      <td>THA</td>\n",
       "      <td>Thailand\\n</td>\n",
       "      <td>0</td>\n",
       "      <td>NaN</td>\n",
       "      <td>255</td>\n",
       "      <td>0</td>\n",
       "      <td>0</td>\n",
       "      <td>0</td>\n",
       "      <td>0</td>\n",
       "      <td>0</td>\n",
       "    </tr>\n",
       "    <tr>\n",
       "      <th>1</th>\n",
       "      <td>3</td>\n",
       "      <td>1</td>\n",
       "      <td>36</td>\n",
       "      <td>NaN</td>\n",
       "      <td>0</td>\n",
       "      <td>3</td>\n",
       "      <td>0</td>\n",
       "      <td>545</td>\n",
       "      <td>925509600</td>\n",
       "      <td>1999</td>\n",
       "      <td>0</td>\n",
       "      <td>1107126000</td>\n",
       "      <td>0</td>\n",
       "      <td>vet ej</td>\n",
       "      <td>0</td>\n",
       "      <td>Nya berg - segl.</td>\n",
       "      <td>0</td>\n",
       "      <td>NaN</td>\n",
       "      <td>NaN</td>\n",
       "      <td>\\n</td>\n",
       "      <td>0</td>\n",
       "      <td>NaN</td>\n",
       "      <td>0</td>\n",
       "      <td>0</td>\n",
       "      <td>0</td>\n",
       "      <td>0</td>\n",
       "      <td>0</td>\n",
       "      <td>0</td>\n",
       "    </tr>\n",
       "  </tbody>\n",
       "</table>\n",
       "</div>"
      ],
      "text/plain": [
       "   id  user_id  grade_id notes  raw_notes  method_id  climb_type  total_score  \\\n",
       "0   2        1        36   NaN          0          3           0          545   \n",
       "1   3        1        36   NaN          0          3           0          545   \n",
       "\n",
       "        date  year  last_year    rec_date  project_ascent_date  \\\n",
       "0  918342000  1999          0  1107126000                    0   \n",
       "1  925509600  1999          0  1107126000                    0   \n",
       "\n",
       "             name  crag_id              crag  sector_id         sector  \\\n",
       "0  The King And I    16596            Railay         61  Dum's kitchen   \n",
       "1          vet ej        0  Nya berg - segl.          0            NaN   \n",
       "\n",
       "  country     comment  rating description  yellow_id  climb_try  repeat  \\\n",
       "0     THA  Thailand\\n       0         NaN        255          0       0   \n",
       "1     NaN          \\n       0         NaN          0          0       0   \n",
       "\n",
       "   exclude_from_ranking  user_recommended  chipped  \n",
       "0                     0                 0        0  \n",
       "1                     0                 0        0  "
      ]
     },
     "execution_count": 13,
     "metadata": {},
     "output_type": "execute_result"
    }
   ],
   "source": [
    "ascents.head(2)"
   ]
  },
  {
   "cell_type": "markdown",
   "metadata": {
    "Collapsed": "false"
   },
   "source": [
    "First I want to fix a few grading issues at the upper end of the scale. The main purpose of this is fix \"Silence\" as I will probably talk about it and I want it to be by itself as it is the hardest climb in the world."
   ]
  },
  {
   "cell_type": "code",
   "execution_count": 14,
   "metadata": {
    "Collapsed": "false"
   },
   "outputs": [],
   "source": [
    "ascents[ascents.grade_id > 80].sort_values(by='name')\n",
    "ascents.loc[((ascents.name == 'Chilam Balam') & (ascents.crag == 'Villanueva del Rosario')) , 'grade_id'] = 80\n",
    "\n",
    "f = (((ascents.name == 'La Dura dura') & (ascents.crag == 'Oliana')) |\n",
    "     ((ascents.name.isin(['Change', 'The Change'])) & (ascents.crag == 'Flatanger')) |\n",
    "     ((ascents.name == 'Change') & (ascents.crag == 'Sloup')))\n",
    "\n",
    "ascents.loc[f, 'grade_id'] = 83\n",
    "ascents.loc[(ascents.name == 'Silence') & (ascents.crag == 'Flatanger') , 'grade_id'] = 85\n",
    "\n",
    "# Let's convert the dates from unix style to datetime objects.\n",
    "ascents.loc[:, 'date'] = (pd\n",
    "                          .to_datetime(ascents.date, unit = 's')\n",
    "                          .dt.normalize()\n",
    "                          .sort_values())\n",
    "ascents.loc[:, 'rec_date'] = (pd\n",
    "                              .to_datetime(ascents.rec_date, unit = 's')\n",
    "                              .dt.normalize()\n",
    "                              .sort_values())\n",
    "\n",
    "# get rid of unused columns\n",
    "asecents_drop_cols = ['chipped', 'user_recommended', 'exclude_from_ranking', \n",
    "                      'repeat', 'climb_try', 'description', 'rating', 'comment', \n",
    "                      'sector_id', 'yellow_id', 'crag_id', 'notes', 'raw_notes', 'total_score', \n",
    "                      'project_ascent_date', 'last_year', 'rec_date']\n",
    "ascents_filtered = ascents.drop(columns = asecents_drop_cols)"
   ]
  },
  {
   "cell_type": "markdown",
   "metadata": {
    "Collapsed": "false"
   },
   "source": [
    "Now we can split the ascents file into boulders and roped climbs, which is what I am going to be analyzing in this project.<br>\n",
    "- climb_type = 1 = boulder\n",
    "- climb_type = 0 = roped climb"
   ]
  },
  {
   "cell_type": "code",
   "execution_count": 15,
   "metadata": {
    "Collapsed": "false"
   },
   "outputs": [
    {
     "name": "stdout",
     "output_type": "stream",
     "text": [
      "Ropes info - take a quick look at the dataframe.\n",
      "<class 'pandas.core.frame.DataFrame'>\n",
      "Int64Index: 2875675 entries, 0 to 4111875\n",
      "Data columns (total 11 columns):\n",
      " #   Column      Non-Null Count    Dtype         \n",
      "---  ------      --------------    -----         \n",
      " 0   id          2875675 non-null  int64         \n",
      " 1   user_id     2875675 non-null  int64         \n",
      " 2   grade_id    2875675 non-null  int64         \n",
      " 3   method_id   2875675 non-null  int64         \n",
      " 4   climb_type  2875675 non-null  int64         \n",
      " 5   date        2875675 non-null  datetime64[ns]\n",
      " 6   year        2875675 non-null  int64         \n",
      " 7   name        2875421 non-null  object        \n",
      " 8   crag        2870319 non-null  object        \n",
      " 9   sector      2137532 non-null  object        \n",
      " 10  country     2818840 non-null  object        \n",
      "dtypes: datetime64[ns](1), int64(6), object(4)\n",
      "memory usage: 263.3+ MB\n",
      "None\n",
      "\n",
      "Look at the null values\n",
      "id                 0\n",
      "user_id            0\n",
      "grade_id           0\n",
      "method_id          0\n",
      "climb_type         0\n",
      "date               0\n",
      "year               0\n",
      "name             254\n",
      "crag            5356\n",
      "sector        738143\n",
      "country        56835\n",
      "dtype: int64\n",
      "\n",
      "Boulders info - take a quick look at the dataframe.\n",
      "<class 'pandas.core.frame.DataFrame'>\n",
      "Int64Index: 1236202 entries, 130 to 4111876\n",
      "Data columns (total 11 columns):\n",
      " #   Column      Non-Null Count    Dtype         \n",
      "---  ------      --------------    -----         \n",
      " 0   id          1236202 non-null  int64         \n",
      " 1   user_id     1236202 non-null  int64         \n",
      " 2   grade_id    1236202 non-null  int64         \n",
      " 3   method_id   1236202 non-null  int64         \n",
      " 4   climb_type  1236202 non-null  int64         \n",
      " 5   date        1236202 non-null  datetime64[ns]\n",
      " 6   year        1236202 non-null  int64         \n",
      " 7   name        1236020 non-null  object        \n",
      " 8   crag        1233146 non-null  object        \n",
      " 9   sector      717453 non-null   object        \n",
      " 10  country     1203345 non-null  object        \n",
      "dtypes: datetime64[ns](1), int64(6), object(4)\n",
      "memory usage: 113.2+ MB\n",
      "None\n"
     ]
    }
   ],
   "source": [
    "boulders = ascents_filtered[ascents_filtered.climb_type == 1].copy()\n",
    "routes = ascents_filtered[ascents_filtered.climb_type == 0].copy()\n",
    "\n",
    "print(\"Ropes info - take a quick look at the dataframe.\")\n",
    "print(routes.info(verbose=True, null_counts=True))\n",
    "\n",
    "print(\"\\nLook at the null values\")\n",
    "print(routes.isnull().sum())\n",
    "\n",
    "print(\"\\nBoulders info - take a quick look at the dataframe.\")\n",
    "print(boulders.info(verbose=True, null_counts=True))"
   ]
  },
  {
   "cell_type": "markdown",
   "metadata": {
    "Collapsed": "false"
   },
   "source": [
    "That actually looks reasonable. If I need to deal with the missing values later I can do that.\n",
    "\n",
    "### Grades Table\n",
    "\n",
    "Grades actually might require the most cleaning, but it is small so it shouldn't be hard. I want to deal with the Yosemite scale ratings rather than the French ratings, as that is the rating system that we use in Canada."
   ]
  },
  {
   "cell_type": "code",
   "execution_count": 16,
   "metadata": {
    "Collapsed": "false"
   },
   "outputs": [],
   "source": [
    "grades.loc[:,['usa_routes', 'usa_boulders']] = grades.loc[:,['usa_routes', 'usa_boulders']].fillna(method = 'ffill')\n",
    "\n",
    "# fix some specific issues with the USA routes column\n",
    "grades.loc[grades.fra_routes == '9c+', 'usa_routes'] = '5.15d'\n",
    "grades.loc[grades.fra_routes == '9c+/10a', 'usa_routes'] = '5.15d'\n",
    "\n",
    "grades.loc[:,'usa_routes'] = grades.loc[:,'usa_routes'].replace({'5.14b/c':'5.14b',\n",
    "                                                                 '5.14c/d':'5.14c',\n",
    "                                                                 '5.14d/.15a':'5.14d',\n",
    "                                                                 '5.15a/b':'5.15a',\n",
    "                                                                 '5.15b/c':'5.15b'})\n",
    "\n",
    "# fix some specific issues with the USA boulders column\n",
    "grades.loc[grades.fra_routes == '9c+', 'usa_boulders'] = 'V21'\n",
    "grades.loc[grades.fra_routes == '9c+/10a', 'usa_boulders'] = 'V21'\n",
    "\n",
    "grades.loc[:,'usa_boulders'] = grades.loc[:,'usa_boulders'].replace({'V3/4':'V3',\n",
    "                                                                     'V4/5':'V4',\n",
    "                                                                     'V5/6':'V5',\n",
    "                                                                     'V8/9':'V8',\n",
    "                                                                     'V15/16':'V15',\n",
    "                                                                     'V16/17':'V16',\n",
    "                                                                     'V17/18':'V17',\n",
    "                                                                     'V18/19':'V18',\n",
    "                                                                     'V19/20':'V19'})\n",
    "# drop columns that we won't be using\n",
    "grades_drop_cols = ['fra_routes_input', 'fra_routes_selector', 'fra_boulders_input', 'fra_boulders_selector',\n",
    "                    'usa_routes_input', 'usa_routes_selector', 'usa_boulders_input', 'usa_boulders_selector']\n",
    "grades_filtered = grades.drop(columns = grades_drop_cols)\n",
    "\n",
    "# convert the two USA clibing grades to categorical types\n",
    "usa_routes_type = CategoricalDtype(categories = list(grades_filtered.usa_routes.unique()),\n",
    "                                   ordered = True)\n",
    "usa_boulders_type = CategoricalDtype(categories = list(grades_filtered.usa_boulders.unique()),\n",
    "                                   ordered = True)\n",
    "grades_filtered['usa_routes'] = grades_filtered.usa_routes.astype(usa_routes_type)\n",
    "grades_filtered['usa_boulders'] = grades_filtered.usa_boulders.astype(usa_boulders_type)"
   ]
  },
  {
   "cell_type": "markdown",
   "metadata": {
    "Collapsed": "false"
   },
   "source": [
    "## Time to Merge"
   ]
  },
  {
   "cell_type": "code",
   "execution_count": 17,
   "metadata": {
    "Collapsed": "false"
   },
   "outputs": [],
   "source": [
    "routes_final = pd.merge(left = routes, left_on = 'user_id',\n",
    "                        right = user_filtered, right_on = 'id')\n",
    "routes_final = pd.merge(left = routes_final, left_on = 'grade_id',\n",
    "                        right = grades_filtered, right_on = 'id')\n",
    "\n",
    "route_drop_cols = ['id_x', 'climb_type', 'sector', 'id_y', 'id', 'score']\n",
    "routes_final = (routes_final.drop(columns = route_drop_cols)\n",
    "                            .rename(columns = {'country_x':'country_route', 'country_y':'country_climber'}))\n",
    "routes_final.loc[:,'birth'] = pd.to_datetime(routes_final.birth)\n",
    "\n",
    "# add a column for the route codes as these can be used to sort by later\n",
    "routes_final['usa_routes_codes'] = routes_final.usa_routes.cat.codes\n",
    "\n",
    "# add an age at climb\n",
    "#    there are some problems with this calculation as, for wahtever reason, people have input the data wrong\n",
    "#    if this gets used in analysis then we will have to resolve the problems then\n",
    "routes_final['age_at_climb'] = (routes_final.date - routes_final.birth).astype('timedelta64[Y]').astype('int64')"
   ]
  },
  {
   "cell_type": "code",
   "execution_count": 18,
   "metadata": {
    "Collapsed": "false"
   },
   "outputs": [
    {
     "name": "stdout",
     "output_type": "stream",
     "text": [
      "user_id                   0\n",
      "grade_id                  0\n",
      "method_id                 0\n",
      "date                      0\n",
      "year                      0\n",
      "name                    155\n",
      "crag                   2294\n",
      "country_route         31957\n",
      "city                  30663\n",
      "country_climber           0\n",
      "sex                       0\n",
      "height                    0\n",
      "weight                    0\n",
      "started                   0\n",
      "birth                     0\n",
      "occupation          1023537\n",
      "sponsor1            1258758\n",
      "bmi                       0\n",
      "current_age               0\n",
      "fra_routes                0\n",
      "fra_boulders              0\n",
      "usa_routes                0\n",
      "usa_boulders              0\n",
      "usa_routes_codes          0\n",
      "age_at_climb              0\n",
      "dtype: int64\n"
     ]
    }
   ],
   "source": [
    "print(routes_final.isna().sum())"
   ]
  },
  {
   "cell_type": "markdown",
   "metadata": {
    "Collapsed": "false"
   },
   "source": [
    "At this point we are missing a few values in `name`, `crag`, `country_route`, `city`. We might as well do a little more cleaning and just tidy these up as we don't lose a lot of information by doing so and we end up with a much more complete data set."
   ]
  },
  {
   "cell_type": "code",
   "execution_count": 19,
   "metadata": {
    "Collapsed": "false"
   },
   "outputs": [],
   "source": [
    "routes_final_clean = routes_final[(~routes_final.country_route.isna()) &\n",
    "                                  (~routes_final.name.isna()) &\n",
    "                                  (~routes_final.city.isna()) &\n",
    "                                  (~routes_final.crag.isna())].copy()"
   ]
  },
  {
   "cell_type": "code",
   "execution_count": 20,
   "metadata": {
    "Collapsed": "false"
   },
   "outputs": [
    {
     "data": {
      "text/plain": [
       "user_id                   0\n",
       "grade_id                  0\n",
       "method_id                 0\n",
       "date                      0\n",
       "year                      0\n",
       "name                      0\n",
       "crag                      0\n",
       "country_route             0\n",
       "city                      0\n",
       "country_climber           0\n",
       "sex                       0\n",
       "height                    0\n",
       "weight                    0\n",
       "started                   0\n",
       "birth                     0\n",
       "occupation           988376\n",
       "sponsor1            1213284\n",
       "bmi                       0\n",
       "current_age               0\n",
       "fra_routes                0\n",
       "fra_boulders              0\n",
       "usa_routes                0\n",
       "usa_boulders              0\n",
       "usa_routes_codes          0\n",
       "age_at_climb              0\n",
       "dtype: int64"
      ]
     },
     "execution_count": 20,
     "metadata": {},
     "output_type": "execute_result"
    }
   ],
   "source": [
    "routes_final_clean.isna().sum()"
   ]
  },
  {
   "cell_type": "code",
   "execution_count": 21,
   "metadata": {
    "Collapsed": "false"
   },
   "outputs": [
    {
     "name": "stdout",
     "output_type": "stream",
     "text": [
      "climbers logged = 13773\n"
     ]
    }
   ],
   "source": [
    "print('climbers logged = {}'.format(routes_final_clean.user_id.nunique()))"
   ]
  },
  {
   "cell_type": "markdown",
   "metadata": {},
   "source": [
    "Finally, we can write these cleaned dataframes out to csv files for analysis."
   ]
  },
  {
   "cell_type": "code",
   "execution_count": 22,
   "metadata": {
    "Collapsed": "false"
   },
   "outputs": [],
   "source": [
    "output_path = '../data/cleaned/'\n",
    "routes_final_clean.to_csv(output_path + 'climbing_data.csv')\n",
    "user_filtered.to_csv(output_path + 'users_cleaned.csv')\n",
    "grades_filtered.to_csv(output_path + 'grades_cleaned.csv')"
   ]
  }
 ],
 "metadata": {
  "kernelspec": {
   "display_name": "Python 3",
   "language": "python",
   "name": "python3"
  },
  "language_info": {
   "codemirror_mode": {
    "name": "ipython",
    "version": 3
   },
   "file_extension": ".py",
   "mimetype": "text/x-python",
   "name": "python",
   "nbconvert_exporter": "python",
   "pygments_lexer": "ipython3",
   "version": "3.7.7"
  },
  "widgets": {
   "application/vnd.jupyter.widget-state+json": {
    "state": {},
    "version_major": 2,
    "version_minor": 0
   }
  }
 },
 "nbformat": 4,
 "nbformat_minor": 4
}
